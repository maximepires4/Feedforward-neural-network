{
 "cells": [
  {
   "cell_type": "code",
   "execution_count": 2,
   "metadata": {},
   "outputs": [],
   "source": [
    "%load_ext autoreload\n",
    "%autoreload 2\n",
    "\n",
    "import pickle, gzip\n",
    "import matplotlib.pyplot as plt\n",
    "from src import ffnn\n",
    "import random"
   ]
  },
  {
   "cell_type": "code",
   "execution_count": 3,
   "metadata": {},
   "outputs": [],
   "source": [
    "def load_data():\n",
    "    with gzip.open('data/mnist.pkl.gz', 'rb') as f:\n",
    "        f.seek(0)\n",
    "        training_data, validation_data, test_data = pickle.load(f, encoding='latin1')\n",
    "        return (training_data, validation_data, test_data)\n",
    "\n",
    "training_data, validation_data, test_data = load_data()"
   ]
  },
  {
   "cell_type": "code",
   "execution_count": 4,
   "metadata": {},
   "outputs": [
    {
     "name": "stdout",
     "output_type": "stream",
     "text": [
      "Training has 2 folders\n",
      "Training folder 1 has 50000 images of digits and training folder 2 has 50000 labels of those digit images\n",
      "The images have shape (784,) each which is linear representation of 28*28\n",
      "The folder 2 has lables w.r.t the images in folder 1 which look like list of numbers : [5 0 4 ... 8 4 8] and first label is 5\n"
     ]
    }
   ],
   "source": [
    "print(\"Training has {} folders\" .format(len(training_data)))\n",
    "print(\"Training folder 1 has {a} images of digits and training folder 2 has {b} labels of those digit images\" .format(a=len(training_data[0]), b=len(training_data[1])))\n",
    "print(\"The images have shape {} each which is linear representation of 28*28\" .format(training_data[0][0].shape))\n",
    "print(\"The folder 2 has lables w.r.t the images in folder 1 which look like list of numbers : {c} and first label is {d}\" .format(c=training_data[1], d=training_data[1][0]))"
   ]
  },
  {
   "cell_type": "code",
   "execution_count": 5,
   "metadata": {},
   "outputs": [
    {
     "name": "stdout",
     "output_type": "stream",
     "text": [
      "[5 0 4 1 9 2]\n"
     ]
    },
    {
     "data": {
      "image/png": "[encoded data removed]",
      "text/plain": [
       "<Figure size 640x480 with 6 Axes>"
      ]
     },
     "metadata": {},
     "output_type": "display_data"
    }
   ],
   "source": [
    "def view_image(images):\n",
    "    \n",
    "    '''\n",
    "    This funtion takes input list of matrices of images reshapes them with 28*28 pixels and standard normalizes it and plots the images in the subplot respectively \n",
    "    @input : images [list(numpy.ndarray)]\n",
    "    @output : None \n",
    "    '''\n",
    "    \n",
    "    n: int = len(images)\n",
    "    f = plt.figure()\n",
    "    \n",
    "    for i in range(n):\n",
    "        f.add_subplot(1, n, i + 1)\n",
    "        reshape_img = images[i].reshape((28,28))\n",
    "        normalize_img = reshape_img/255\n",
    "        plt.imshow(normalize_img , cmap=\"gray\")\n",
    "#       plt.show(block=True)\n",
    "\n",
    "# Viewing the first five images \n",
    "view_image(training_data[0][:6])\n",
    "\n",
    "print(training_data[1][:6])"
   ]
  },
  {
   "cell_type": "code",
   "execution_count": 6,
   "metadata": {},
   "outputs": [
    {
     "name": "stdout",
     "output_type": "stream",
     "text": [
      "50000\n"
     ]
    }
   ],
   "source": [
    "print(training_data[1].shape[0])"
   ]
  },
  {
   "cell_type": "code",
   "execution_count": 7,
   "metadata": {},
   "outputs": [
    {
     "name": "stdout",
     "output_type": "stream",
     "text": [
      "[[0. 0. 0. 0. 0. 1. 0. 0. 0. 0.]\n",
      " [1. 0. 0. 0. 0. 0. 0. 0. 0. 0.]\n",
      " [0. 0. 0. 0. 1. 0. 0. 0. 0. 0.]\n",
      " [0. 1. 0. 0. 0. 0. 0. 0. 0. 0.]\n",
      " [0. 0. 0. 0. 0. 0. 0. 0. 0. 1.]\n",
      " [0. 0. 1. 0. 0. 0. 0. 0. 0. 0.]]\n"
     ]
    }
   ],
   "source": [
    "import numpy as np\n",
    "\n",
    "Y = np.zeros((training_data[1].shape[0], 10))\n",
    "for i in range(training_data[1].shape[0]):\n",
    "    Y[i, training_data[1][i]] = 1\n",
    "\n",
    "print(Y[:6])"
   ]
  },
  {
   "cell_type": "code",
   "execution_count": 22,
   "metadata": {},
   "outputs": [
    {
     "ename": "KeyboardInterrupt",
     "evalue": "",
     "output_type": "error",
     "traceback": [
      "\u001b[0;31m---------------------------------------------------------------------------\u001b[0m",
      "\u001b[0;31mKeyboardInterrupt\u001b[0m                         Traceback (most recent call last)",
      "Cell \u001b[0;32mIn[22], line 1\u001b[0m\n\u001b[0;32m----> 1\u001b[0m v, w \u001b[39m=\u001b[39m ffnn\u001b[39m.\u001b[39;49mffnn(training_data[\u001b[39m0\u001b[39;49m], \u001b[39m16\u001b[39;49m, training_data[\u001b[39m1\u001b[39;49m], \u001b[39m10\u001b[39;49m, \u001b[39m101\u001b[39;49m, print_error\u001b[39m=\u001b[39;49m\u001b[39mTrue\u001b[39;49;00m)\n",
      "File \u001b[0;32m~/Development/Projects/Python/FFNN/src/ffnn.py:105\u001b[0m, in \u001b[0;36mffnn\u001b[0;34m(X, neurons, data_y, outputs, max_iter, print_error, print_output_variable)\u001b[0m\n\u001b[1;32m    103\u001b[0m itera \u001b[39m=\u001b[39m itera \u001b[39m+\u001b[39m \u001b[39m1\u001b[39m\n\u001b[1;32m    104\u001b[0m F, Fb, G, error \u001b[39m=\u001b[39m doForwardPropagation(Xb, Y, v, w)\n\u001b[0;32m--> 105\u001b[0m v, w \u001b[39m=\u001b[39m doBackPropagation(Xb, F, Fb, G, v, w, alpha1, alpha2, Y)\n\u001b[1;32m    107\u001b[0m \u001b[39m# Keep track of the error\u001b[39;00m\n\u001b[1;32m    108\u001b[0m deltaError \u001b[39m=\u001b[39m error \u001b[39m-\u001b[39m error_old\n",
      "File \u001b[0;32m~/Development/Projects/Python/FFNN/src/ffnn.py:71\u001b[0m, in \u001b[0;36mdoBackPropagation\u001b[0;34m(Xb, F, Fb, G, v, w, alpha1, alpha2, Y)\u001b[0m\n\u001b[1;32m     67\u001b[0m \u001b[39mdef\u001b[39;00m \u001b[39mdoBackPropagation\u001b[39m(Xb, F, Fb, G, v, w, alpha1, alpha2, Y):\n\u001b[1;32m     68\u001b[0m     \u001b[39m# Back propagation algorithm\u001b[39;00m\n\u001b[1;32m     70\u001b[0m     delta_w \u001b[39m=\u001b[39m np\u001b[39m.\u001b[39mdot(Fb\u001b[39m.\u001b[39mT, (Y \u001b[39m-\u001b[39m G)\u001b[39m*\u001b[39mG\u001b[39m*\u001b[39m(\u001b[39m1\u001b[39m\u001b[39m-\u001b[39mG))\n\u001b[0;32m---> 71\u001b[0m     delta_v \u001b[39m=\u001b[39m np\u001b[39m.\u001b[39;49mdot(Xb\u001b[39m.\u001b[39;49mT, np\u001b[39m.\u001b[39;49mdot((Y \u001b[39m-\u001b[39;49m G)\u001b[39m*\u001b[39;49mG\u001b[39m*\u001b[39;49m(\u001b[39m1\u001b[39;49m\u001b[39m-\u001b[39;49mG), w[\u001b[39m1\u001b[39;49m:, :]\u001b[39m.\u001b[39;49mT)\u001b[39m*\u001b[39;49mF\u001b[39m*\u001b[39;49m(\u001b[39m1\u001b[39;49m\u001b[39m-\u001b[39;49mF))\n\u001b[1;32m     73\u001b[0m     w \u001b[39m=\u001b[39m w \u001b[39m+\u001b[39m alpha1\u001b[39m*\u001b[39mdelta_w\n\u001b[1;32m     74\u001b[0m     v \u001b[39m=\u001b[39m v \u001b[39m+\u001b[39m alpha2\u001b[39m*\u001b[39mdelta_v\n",
      "File \u001b[0;32m<__array_function__ internals>:5\u001b[0m, in \u001b[0;36mdot\u001b[0;34m(*args, **kwargs)\u001b[0m\n",
      "\u001b[0;31mKeyboardInterrupt\u001b[0m: "
     ]
    }
   ],
   "source": [
    "v, w = ffnn.ffnn(training_data[0], 16, training_data[1], 10, 101, print_error=True)"
   ]
  },
  {
   "cell_type": "code",
   "execution_count": 10,
   "metadata": {},
   "outputs": [
    {
     "name": "stdout",
     "output_type": "stream",
     "text": [
      "[[0.17768087 0.0151601  0.93159012 ... 0.69265899 0.42632257 0.07792331]\n",
      " [0.97006843 0.22021128 0.69709041 ... 0.20542557 0.64388056 0.17600339]\n",
      " [0.83087239 0.53886793 0.60145319 ... 0.33730403 0.22831621 0.82734028]\n",
      " ...\n",
      " [0.57384226 0.20586182 0.60729033 ... 0.40481641 0.48012095 0.18712389]\n",
      " [0.18603865 0.64402581 0.64437646 ... 0.77079835 0.38937239 0.89535508]\n",
      " [0.08914293 0.17471229 0.11999411 ... 0.0682969  0.74086835 0.9400585 ]]\n",
      "[[-0.91238565 -1.8941807  -4.71836538 -0.50432467 -0.87672489 -0.68357173\n",
      "  -2.11898948 -5.59972731 -3.82434444 -3.92209208]\n",
      " [-0.78124545 -1.4212451  -4.99066407 -1.09573251 -0.73490379 -0.2050717\n",
      "  -1.99264839 -6.14410408 -3.71846547 -4.10775592]\n",
      " [-0.88868357 -1.82322368 -4.35874651 -0.63002265 -1.33395065 -0.2676703\n",
      "  -2.33413857 -5.53838918 -3.42048833 -3.69607837]\n",
      " [-1.06402376 -1.58047172 -4.62543347 -0.5764998  -0.54442467 -0.67001187\n",
      "  -2.38597441 -5.73988564 -3.10314823 -4.06230488]\n",
      " [-1.35679468 -1.46296013 -4.74576122 -0.66514063 -1.22941907 -0.4755505\n",
      "  -2.57548606 -5.42922514 -3.91107877 -3.68779347]\n",
      " [-0.67555051 -1.65911082 -5.07778834 -0.39644391 -1.20719239 -1.09315915\n",
      "  -2.26161139 -6.3783119  -3.15794901 -4.10755942]\n",
      " [-0.56088335 -1.59841759 -4.38759224 -1.04732511 -1.03621492 -1.03675088\n",
      "  -1.86801231 -5.73254337 -4.01447901 -3.46835877]\n",
      " [-1.2742436  -2.08491364 -5.15318494 -1.27974007 -0.566159   -1.16521141\n",
      "  -1.82791245 -5.9108326  -3.84164085 -3.42466758]\n",
      " [-1.26610593 -2.1519083  -5.01319126 -1.16151162 -1.34770227 -0.57200591\n",
      "  -1.82664731 -5.41035249 -3.4867494  -4.3918644 ]\n",
      " [-0.89818777 -2.18464538 -4.76014572 -0.90496153 -0.81555926 -0.30781399\n",
      "  -2.14716167 -5.39936386 -3.32150227 -4.35873358]\n",
      " [-0.73251398 -1.94005106 -5.06568283 -0.8474884  -0.66715583 -1.03237717\n",
      "  -2.13857797 -5.74582618 -3.64940641 -3.59101627]\n",
      " [-1.10657952 -1.37565481 -4.47599073 -0.49649124 -0.99873121 -0.27369229\n",
      "  -2.10138862 -6.10818839 -3.73404043 -4.31150453]\n",
      " [-1.36670633 -1.69278249 -5.13219832 -1.01473368 -0.57137363 -0.67574555\n",
      "  -2.19031856 -5.97521062 -3.68146257 -4.07272607]\n",
      " [-1.30626292 -1.83692391 -4.827287   -0.9875306  -0.48679004 -0.35965179\n",
      "  -2.57028988 -6.2991023  -3.61575558 -4.06714806]\n",
      " [-0.80237636 -1.61485169 -5.23174566 -0.88439291 -0.42495928 -0.84799702\n",
      "  -1.93088958 -6.25246148 -3.72524674 -3.54028302]\n",
      " [-0.91574668 -1.40795095 -4.65497367 -0.50617181 -0.74370971 -1.10511107\n",
      "  -2.64973963 -5.42347653 -3.97106047 -4.06390867]\n",
      " [-1.26509361 -2.02194509 -4.72100456 -1.05874393 -0.51007568 -0.87094683\n",
      "  -2.08114703 -6.14802327 -3.852664   -4.27584881]]\n"
     ]
    }
   ],
   "source": [
    "print(v)\n",
    "print(w)"
   ]
  },
  {
   "cell_type": "code",
   "execution_count": 58,
   "metadata": {},
   "outputs": [
    {
     "name": "stdout",
     "output_type": "stream",
     "text": [
      "35265\n"
     ]
    },
    {
     "data": {
      "text/plain": [
       "<matplotlib.image.AxesImage at 0x7f6eb6bd76d0>"
      ]
     },
     "execution_count": 58,
     "metadata": {},
     "output_type": "execute_result"
    },
    {
     "data": {
      "image/png": "[encoded data removed]",
      "text/plain": [
       "<Figure size 640x480 with 1 Axes>"
      ]
     },
     "metadata": {},
     "output_type": "display_data"
    }
   ],
   "source": [
    "index  = random.randint(0, training_data[0].shape[0])\n",
    "print(index)\n",
    "#index = 15184\n",
    "\n",
    "k = training_data[0][index,:]\n",
    "k = k.reshape((28, 28))\n",
    "\n",
    "plt.title('Label is {label}'.format(label= training_data[1][index]))\n",
    "plt.imshow(k, cmap='gray')"
   ]
  },
  {
   "cell_type": "code",
   "execution_count": 59,
   "metadata": {},
   "outputs": [
    {
     "name": "stdout",
     "output_type": "stream",
     "text": [
      "(1, 784)\n"
     ]
    }
   ],
   "source": [
    "array = training_data[0][index,]\n",
    "array = array.reshape((1, 784))\n",
    "#array.shape += (1,)\n",
    "print(array.shape)"
   ]
  },
  {
   "cell_type": "code",
   "execution_count": 60,
   "metadata": {},
   "outputs": [
    {
     "name": "stdout",
     "output_type": "stream",
     "text": [
      "(1, 784)\n",
      "(1, 785)\n",
      "(1, 785)\n",
      "(785, 16)\n"
     ]
    }
   ],
   "source": [
    "G = ffnn.resolveForwardPropagation(array, v, w)"
   ]
  },
  {
   "cell_type": "code",
   "execution_count": 61,
   "metadata": {},
   "outputs": [
    {
     "name": "stdout",
     "output_type": "stream",
     "text": [
      "(1, 10)\n",
      "(784,)\n"
     ]
    }
   ],
   "source": [
    "print(G.shape)\n",
    "print(training_data[0][index].shape)"
   ]
  },
  {
   "cell_type": "code",
   "execution_count": 62,
   "metadata": {},
   "outputs": [
    {
     "name": "stdout",
     "output_type": "stream",
     "text": [
      "[0. 0. 0. 0. 0. 1. 0. 0. 0. 0.]\n"
     ]
    }
   ],
   "source": [
    "array = np.zeros(10)\n",
    "\n",
    "for i in range(G.shape[0]):\n",
    "    array[np.argmax(G[i])] += 1\n",
    "\n",
    "print(array)"
   ]
  },
  {
   "cell_type": "code",
   "execution_count": 66,
   "metadata": {},
   "outputs": [
    {
     "name": "stdout",
     "output_type": "stream",
     "text": [
      "(10, 784)\n"
     ]
    },
    {
     "data": {
      "image/png": "[encoded data removed]",
      "text/plain": [
       "<Figure size 640x480 with 10 Axes>"
      ]
     },
     "metadata": {},
     "output_type": "display_data"
    }
   ],
   "source": [
    "#index = 15184\n",
    "index  = random.randint(0, training_data[0].shape[0])\n",
    "number_of_images = 10\n",
    "images = training_data[0][index:index+number_of_images]\n",
    "imgs = np.zeros((number_of_images, 28, 28))\n",
    "print(images.shape)\n",
    "for i in range(number_of_images):\n",
    "    imgs[i] = images[i].reshape((28,28))\n",
    "    #images[i] = images[i]/255\n",
    "#image1 = images[0].reshape((28,28))\n",
    "#image2 = images[1].reshape((28,28))\n",
    "fig, ax = plt.subplots(1, number_of_images)\n",
    "for i in range(number_of_images):\n",
    "    ax[i].title.set_text('{label}'.format(label= training_data[1][index+i]))\n",
    "    ax[i].imshow(imgs[i], cmap='gray')\n",
    "#ax[0].title.set_text('Label is {label}'.format(label= training_data[1][index]))\n",
    "#ax[0].imshow(image1, cmap='gray')\n",
    "#ax[1].title.set_text('Label is {label}'.format(label= training_data[1][index+1]))\n",
    "#ax[1].imshow(image2, cmap='gray')"
   ]
  },
  {
   "cell_type": "code",
   "execution_count": 72,
   "metadata": {},
   "outputs": [
    {
     "name": "stdout",
     "output_type": "stream",
     "text": [
      "(10, 784)\n",
      "(10, 785)\n",
      "(10, 785)\n",
      "(785, 16)\n"
     ]
    }
   ],
   "source": [
    "#np.set_printoptions(threshold=np.inf)\n",
    "G = ffnn.resolveForwardPropagation(training_data[0][index:index+number_of_images], v, w)"
   ]
  },
  {
   "cell_type": "code",
   "execution_count": 73,
   "metadata": {},
   "outputs": [
    {
     "name": "stdout",
     "output_type": "stream",
     "text": [
      "(10, 10)\n",
      "(2, 784)\n",
      "[ 0.  0.  0.  0.  0. 10.  0.  0.  0.  0.]\n"
     ]
    }
   ],
   "source": [
    "print(G.shape)\n",
    "print(training_data[0][index:index+2].shape)\n",
    "\n",
    "array = np.zeros(10)\n",
    "\n",
    "for i in range(G.shape[0]):\n",
    "    array[np.argmax(G[i])] += 1\n",
    "\n",
    "print(array)"
   ]
  },
  {
   "cell_type": "code",
   "execution_count": 23,
   "metadata": {},
   "outputs": [
    {
     "name": "stdout",
     "output_type": "stream",
     "text": [
      "(2, 10)\n",
      "[[3.48092147e-08 1.20005713e-13 2.59427583e-36 7.85256169e-07\n",
      "  7.56134146e-07 8.78602724e-06 8.52508730e-17 7.99422793e-44\n",
      "  1.15063682e-27 6.87511857e-30]\n",
      " [3.48092147e-08 1.20005713e-13 2.59427583e-36 7.85256169e-07\n",
      "  7.56134146e-07 8.78602724e-06 8.52508730e-17 7.99422793e-44\n",
      "  1.15063682e-27 6.87511857e-30]]\n"
     ]
    }
   ],
   "source": [
    "print(G.shape)\n",
    "print(G)"
   ]
  },
  {
   "cell_type": "code",
   "execution_count": 74,
   "metadata": {},
   "outputs": [],
   "source": [
    "new_v = np.loadtxt('v.csv', delimiter=',')\n",
    "new_w = np.loadtxt('w.csv', delimiter=',')"
   ]
  },
  {
   "cell_type": "code",
   "execution_count": 75,
   "metadata": {},
   "outputs": [
    {
     "name": "stdout",
     "output_type": "stream",
     "text": [
      "(115, 784)\n",
      "(128,)\n"
     ]
    }
   ],
   "source": [
    "print(new_v.shape)\n",
    "print(new_w.shape)"
   ]
  },
  {
   "cell_type": "code",
   "execution_count": 76,
   "metadata": {},
   "outputs": [
    {
     "name": "stdout",
     "output_type": "stream",
     "text": [
      "(10, 784)\n",
      "(10, 785)\n",
      "(10, 785)\n",
      "(785, 16)\n"
     ]
    }
   ],
   "source": [
    "G = ffnn.resolveForwardPropagation(training_data[0][index:index+number_of_images], v, w)"
   ]
  },
  {
   "cell_type": "code",
   "execution_count": 78,
   "metadata": {},
   "outputs": [
    {
     "name": "stdout",
     "output_type": "stream",
     "text": [
      "(10, 10)\n",
      "(2, 784)\n",
      "[ 0.  0.  0.  0.  0. 10.  0.  0.  0.  0.]\n",
      "[[3.48092147e-08 1.20005713e-13 2.59427583e-36 7.85256169e-07\n",
      "  7.56134146e-07 8.78602724e-06 8.52508730e-17 7.99422793e-44\n",
      "  1.15063682e-27 6.87511857e-30]\n",
      " [3.48092147e-08 1.20005713e-13 2.59427583e-36 7.85256169e-07\n",
      "  7.56134146e-07 8.78602724e-06 8.52508730e-17 7.99422793e-44\n",
      "  1.15063682e-27 6.87511857e-30]\n",
      " [3.48092147e-08 1.20005713e-13 2.59427583e-36 7.85256169e-07\n",
      "  7.56134146e-07 8.78602724e-06 8.52508730e-17 7.99422793e-44\n",
      "  1.15063682e-27 6.87511857e-30]\n",
      " [3.48092147e-08 1.20005713e-13 2.59427583e-36 7.85256169e-07\n",
      "  7.56134146e-07 8.78602724e-06 8.52508730e-17 7.99422793e-44\n",
      "  1.15063682e-27 6.87511857e-30]\n",
      " [3.48092147e-08 1.20005713e-13 2.59427583e-36 7.85256169e-07\n",
      "  7.56134146e-07 8.78602724e-06 8.52508730e-17 7.99422793e-44\n",
      "  1.15063682e-27 6.87511857e-30]\n",
      " [3.48092147e-08 1.20005713e-13 2.59427583e-36 7.85256169e-07\n",
      "  7.56134146e-07 8.78602724e-06 8.52508730e-17 7.99422793e-44\n",
      "  1.15063682e-27 6.87511857e-30]\n",
      " [3.48092147e-08 1.20005713e-13 2.59427583e-36 7.85256169e-07\n",
      "  7.56134146e-07 8.78602724e-06 8.52508730e-17 7.99422793e-44\n",
      "  1.15063682e-27 6.87511857e-30]\n",
      " [3.48092147e-08 1.20005713e-13 2.59427583e-36 7.85256169e-07\n",
      "  7.56134146e-07 8.78602724e-06 8.52508730e-17 7.99422793e-44\n",
      "  1.15063682e-27 6.87511857e-30]\n",
      " [3.48092147e-08 1.20005713e-13 2.59427583e-36 7.85256169e-07\n",
      "  7.56134146e-07 8.78602724e-06 8.52508730e-17 7.99422793e-44\n",
      "  1.15063682e-27 6.87511857e-30]\n",
      " [3.48092147e-08 1.20005713e-13 2.59427583e-36 7.85256169e-07\n",
      "  7.56134146e-07 8.78602724e-06 8.52508731e-17 7.99422796e-44\n",
      "  1.15063682e-27 6.87511859e-30]]\n"
     ]
    }
   ],
   "source": [
    "print(G.shape)\n",
    "print(training_data[0][index:index+2].shape)\n",
    "\n",
    "array = np.zeros(10)\n",
    "\n",
    "for i in range(G.shape[0]):\n",
    "    array[np.argmax(G[i])] += 1\n",
    "\n",
    "print(array)\n",
    "print(G)"
   ]
  },
  {
   "cell_type": "code",
   "execution_count": null,
   "metadata": {},
   "outputs": [],
   "source": [
    "def data_wrapper():\n",
    "    \n",
    "    '''\n",
    "    @purpose : This funtion is used to extract the training validation and test data \n",
    "    @input : None \n",
    "    @output : truple (training features, training labels, validation features, validation labels)\n",
    "    @return : Truple(matrices)\n",
    "    '''\n",
    "    \n",
    "    # Upacking \n",
    "    tr_d, va_d, te_d = load_data()\n",
    "    \n",
    "    # Training\n",
    "    training_inputs = np.array(tr_d[0][:]).T    # [50000, 784] -> [784, 50000]\n",
    "    \n",
    "    training_results = np.array(tr_d[1][:])     # [50000,]\n",
    "    train_set_y_ohe = one_hot(training_results)     # [10 ,50000]\n",
    "    \n",
    "    # Keras model input requirement \n",
    "    #For implementing in Keras, the input training and input target dataset are supposed to have shape (m, n) where m is the number of training samples and n is the number of parts in a single input.\n",
    "    #Hence, let create the desired dataset shapes by taking transpose.\n",
    "    \n",
    "    training_inputs = training_inputs.T # [784, 50000] -> [50000, 784]\n",
    "    train_set_y = train_set_y_ohe.T    # [10 ,50000] -> [50000, 10]\n",
    "    \n",
    "    \n",
    "    # Validation\n",
    "    validation_inputs = np.array(va_d[0][:]).T\n",
    "    \n",
    "    validation_results = np.array(va_d[1][:])\n",
    "    validation_set_y_ohe = one_hot(validation_results)\n",
    "    \n",
    "    # Keras model input requirement \n",
    "    #For implementing in Keras, the input training and input target dataset are supposed to have shape (m, n) where m is the number of training samples and n is the number of parts in a single input.\n",
    "    #Hence, let create the desired dataset shapes by taking transpose.\n",
    "    validation_inputs = validation_inputs.T\n",
    "    validation_set_y = validation_set_y_ohe.T\n",
    "    \n",
    "    # Testing\n",
    "    test_inputs = np.array(te_d[0][:]).T\n",
    "    \n",
    "    test_results = np.array(te_d[1][:])\n",
    "    test_set_y_ohe = one_hot(test_results)\n",
    "    \n",
    "    # Keras model input requirement \n",
    "    #For implementing in Keras, the input training and input target dataset are supposed to have shape (m, n) where m is the number of training samples and n is the number of parts in a single input.\n",
    "    #Hence, let create the desired dataset shapes by taking transpose.\n",
    "    test_inputs = test_inputs.T\n",
    "    test_set_y = test_set_y_ohe.T\n",
    "    \n",
    "    return (training_inputs, train_set_y, validation_inputs, validation_set_y)"
   ]
  },
  {
   "cell_type": "code",
   "execution_count": 10,
   "metadata": {},
   "outputs": [
    {
     "ename": "NameError",
     "evalue": "name 'index' is not defined",
     "output_type": "error",
     "traceback": [
      "\u001b[0;31m---------------------------------------------------------------------------\u001b[0m",
      "\u001b[0;31mNameError\u001b[0m                                 Traceback (most recent call last)",
      "Cell \u001b[0;32mIn[10], line 1\u001b[0m\n\u001b[0;32m----> 1\u001b[0m \u001b[39mprint\u001b[39m(ffnn\u001b[39m.\u001b[39mresolveForwardPropagation(training_data[\u001b[39m0\u001b[39m][index], v, w))\n",
      "\u001b[0;31mNameError\u001b[0m: name 'index' is not defined"
     ]
    }
   ],
   "source": [
    "print(ffnn.resolveForwardPropagation(training_data[0][index], v, w))"
   ]
  }
 ],
 "metadata": {
  "kernelspec": {
   "display_name": "Python 3",
   "language": "python",
   "name": "python3"
  },
  "language_info": {
   "codemirror_mode": {
    "name": "ipython",
    "version": 3
   },
   "file_extension": ".py",
   "mimetype": "text/x-python",
   "name": "python",
   "nbconvert_exporter": "python",
   "pygments_lexer": "ipython3",
   "version": "3.10.6"
  },
  "orig_nbformat": 4,
  "vscode": {
   "interpreter": {
    "hash": "916dbcbb3f70747c44a77c7bcd40155683ae19c65e1c03b4aa3499c5328201f1"
   }
  }
 },
 "nbformat": 4,
 "nbformat_minor": 2
}
