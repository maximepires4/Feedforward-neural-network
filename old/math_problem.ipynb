{
 "cells": [
  {
   "cell_type": "code",
   "execution_count": 2,
   "metadata": {},
   "outputs": [],
   "source": [
    "def function(x):\n",
    "    return x**2 + 2*x - 3\n",
    "\n",
    "file_obj = open(\"data/function.txt\", \"w\")\n",
    "\n",
    "for i in range(10000):\n",
    "    file_obj.write(str(i) + \" \" + str(function(i)) + '\\n')\n",
    "\n",
    "file_obj.close()"
   ]
  },
  {
   "cell_type": "code",
   "execution_count": 9,
   "metadata": {},
   "outputs": [
    {
     "name": "stdout",
     "output_type": "stream",
     "text": [
      "The autoreload extension is already loaded. To reload it, use:\n",
      "  %reload_ext autoreload\n"
     ]
    }
   ],
   "source": [
    "%load_ext autoreload\n",
    "%autoreload 2\n",
    "%reload_ext autoreload\n",
    "\n",
    "import matplotlib.pyplot as plt\n",
    "import numpy as np\n",
    "import pandas as pd\n",
    "from src import ffnn_func as ffnn\n",
    "\n",
    "name_file = './data/function.txt'\n",
    "columns = ['x', 'y']\n",
    "\n",
    "data_in = pd.read_csv(name_file,\n",
    "                          names=columns,\n",
    "                          sep=' ')\n",
    "\n",
    "# separe the data in two groups train and test not random\n",
    "train = data_in.sample(frac=1).reset_index(drop=True)\n",
    "train = data_in[:int(len(train)*0.8)]\n",
    "test = data_in[int(len(train)*0.8):]\n",
    "\n",
    "X = train[['x']].to_numpy()\n",
    "X_test = test[['x']].to_numpy()"
   ]
  },
  {
   "cell_type": "code",
   "execution_count": 15,
   "metadata": {},
   "outputs": [],
   "source": [
    "v, w = ffnn.ffnn(X, 4, train['y'], 10000, False, False)"
   ]
  },
  {
   "cell_type": "code",
   "execution_count": 16,
   "metadata": {},
   "outputs": [
    {
     "name": "stdout",
     "output_type": "stream",
     "text": [
      "[[4.21878427e-01 1.42785069e-01 3.92353401e+01 6.50711023e-01]\n",
      " [1.84100042e+01 6.58937727e-01 1.00847820e+04 5.79356693e-01]]\n",
      "[[10429449.48991045]\n",
      " [10429449.61724051]\n",
      " [10429449.36755984]\n",
      " [10429399.31002948]\n",
      " [10429450.1158364 ]]\n"
     ]
    }
   ],
   "source": [
    "print(v)\n",
    "print(w)"
   ]
  },
  {
   "cell_type": "code",
   "execution_count": 18,
   "metadata": {},
   "outputs": [
    {
     "name": "stdout",
     "output_type": "stream",
     "text": [
      "Xb\n",
      "[[1. 1.]\n",
      " [1. 2.]\n",
      " [1. 3.]]\n",
      "F\n",
      "[[0.99999999 0.69034288 1.         0.77383043]\n",
      " [1.         0.81163368 1.         0.85929229]\n",
      " [1.         0.89279348 1.         0.9159678 ]]\n",
      "Fb\n",
      "[[1.         0.99999999 0.69034288 1.         0.77383043]\n",
      " [1.         1.         0.81163368 1.         0.85929229]\n",
      " [1.         1.         0.89279348 1.         0.9159678 ]]\n",
      "w\n",
      "[[10429449.48991045]\n",
      " [10429449.61724051]\n",
      " [10429449.36755984]\n",
      " [10429399.31002948]\n",
      " [10429450.1158364 ]]\n",
      "Fbb\n",
      "[[46558820.31984126]\n",
      " [48715136.89966629]\n",
      " [50152683.27785868]]\n",
      "[[1.]\n",
      " [1.]\n",
      " [1.]]\n"
     ]
    }
   ],
   "source": [
    "array = np.array([1,2,3])\n",
    "G = ffnn.resolveForwardPropagation(array, v, w)\n",
    "print(G)"
   ]
  }
 ],
 "metadata": {
  "kernelspec": {
   "display_name": "Python 3",
   "language": "python",
   "name": "python3"
  },
  "language_info": {
   "codemirror_mode": {
    "name": "ipython",
    "version": 3
   },
   "file_extension": ".py",
   "mimetype": "text/x-python",
   "name": "python",
   "nbconvert_exporter": "python",
   "pygments_lexer": "ipython3",
   "version": "3.10.6"
  },
  "orig_nbformat": 4,
  "vscode": {
   "interpreter": {
    "hash": "916dbcbb3f70747c44a77c7bcd40155683ae19c65e1c03b4aa3499c5328201f1"
   }
  }
 },
 "nbformat": 4,
 "nbformat_minor": 2
}
